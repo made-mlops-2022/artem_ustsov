{
 "cells": [
  {
   "cell_type": "code",
   "execution_count": 1,
   "id": "9706df3b",
   "metadata": {},
   "outputs": [],
   "source": [
    "# Для функционирования watermark - раскомментируйте строку ниже, либо установите библиотеку в консоли вручную\n",
    "# !pip install watermark\n",
    "%load_ext watermark"
   ]
  },
  {
   "cell_type": "code",
   "execution_count": 2,
   "id": "18df6fdc",
   "metadata": {},
   "outputs": [
    {
     "name": "stdout",
     "output_type": "stream",
     "text": [
      "Python implementation: CPython\n",
      "Python version       : 3.10.7\n",
      "IPython version      : 8.5.0\n",
      "\n",
      "numpy     : 1.23.4\n",
      "matplotlib: 3.6.0\n",
      "pandas    : 1.5.1\n",
      "sklearn   : 0.0\n",
      "seaborn   : 0.12.1\n",
      "\n",
      "Compiler    : Clang 13.0.0 (clang-1300.0.29.30)\n",
      "OS          : Darwin\n",
      "Release     : 21.6.0\n",
      "Machine     : x86_64\n",
      "Processor   : i386\n",
      "CPU cores   : 8\n",
      "Architecture: 64bit\n",
      "\n",
      "Git hash: f2716f75e9545c52f0049a4d989efaf478ff53b5\n",
      "\n"
     ]
    }
   ],
   "source": [
    "%watermark -v -m -p numpy,matplotlib,pandas,sklearn,seaborn -g"
   ]
  },
  {
   "cell_type": "code",
   "execution_count": null,
   "id": "1bff307c",
   "metadata": {},
   "outputs": [],
   "source": []
  }
 ],
 "metadata": {
  "kernelspec": {
   "display_name": "Python 3 (ipykernel)",
   "language": "python",
   "name": "python3"
  },
  "language_info": {
   "codemirror_mode": {
    "name": "ipython",
    "version": 3
   },
   "file_extension": ".py",
   "mimetype": "text/x-python",
   "name": "python",
   "nbconvert_exporter": "python",
   "pygments_lexer": "ipython3",
   "version": "3.10.7"
  }
 },
 "nbformat": 4,
 "nbformat_minor": 5
}
